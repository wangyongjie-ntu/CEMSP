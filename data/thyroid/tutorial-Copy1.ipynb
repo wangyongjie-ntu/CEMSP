{
 "cells": [
  {
   "cell_type": "code",
   "execution_count": 1,
   "metadata": {},
   "outputs": [],
   "source": [
    "import numpy as np\n",
    "import pandas as pd\n",
    "import matplotlib.pyplot as plt\n",
    "import statsmodels.api as sm\n",
    "import seaborn as sns\n",
    "\n",
    "from sklearn.linear_model import LogisticRegression\n",
    "from sklearn.svm import SVC\n",
    "from sklearn.metrics import classification_report,f1_score\n",
    "from sklearn.ensemble import RandomForestClassifier\n",
    "from sklearn.preprocessing import LabelEncoder\n",
    "#from imblearn.over_sampling import SMOTE\n",
    "from sklearn.model_selection import train_test_split\n",
    "from sklearn.preprocessing import MinMaxScaler, StandardScaler\n",
    "\n",
    "%matplotlib inline\n",
    "sns.set(rc={'figure.figsize': [20, 20]}, font_scale=1.4)"
   ]
  },
  {
   "cell_type": "code",
   "execution_count": 2,
   "metadata": {},
   "outputs": [
    {
     "data": {
      "text/html": [
       "<div>\n",
       "<style scoped>\n",
       "    .dataframe tbody tr th:only-of-type {\n",
       "        vertical-align: middle;\n",
       "    }\n",
       "\n",
       "    .dataframe tbody tr th {\n",
       "        vertical-align: top;\n",
       "    }\n",
       "\n",
       "    .dataframe thead th {\n",
       "        text-align: right;\n",
       "    }\n",
       "</style>\n",
       "<table border=\"1\" class=\"dataframe\">\n",
       "  <thead>\n",
       "    <tr style=\"text-align: right;\">\n",
       "      <th></th>\n",
       "      <th>age</th>\n",
       "      <th>sex</th>\n",
       "      <th>on thyroxine</th>\n",
       "      <th>query on thyroxine</th>\n",
       "      <th>on antithyroid medication</th>\n",
       "      <th>sick</th>\n",
       "      <th>pregnant</th>\n",
       "      <th>thyroid surgery</th>\n",
       "      <th>I131 treatment</th>\n",
       "      <th>query hypothyroid</th>\n",
       "      <th>...</th>\n",
       "      <th>TT4 measured</th>\n",
       "      <th>TT4</th>\n",
       "      <th>T4U measured</th>\n",
       "      <th>T4U</th>\n",
       "      <th>FTI measured</th>\n",
       "      <th>FTI</th>\n",
       "      <th>TBG measured</th>\n",
       "      <th>TBG</th>\n",
       "      <th>referral source</th>\n",
       "      <th>binaryClass</th>\n",
       "    </tr>\n",
       "  </thead>\n",
       "  <tbody>\n",
       "    <tr>\n",
       "      <th>0</th>\n",
       "      <td>41</td>\n",
       "      <td>F</td>\n",
       "      <td>f</td>\n",
       "      <td>f</td>\n",
       "      <td>f</td>\n",
       "      <td>f</td>\n",
       "      <td>f</td>\n",
       "      <td>f</td>\n",
       "      <td>f</td>\n",
       "      <td>f</td>\n",
       "      <td>...</td>\n",
       "      <td>t</td>\n",
       "      <td>125</td>\n",
       "      <td>t</td>\n",
       "      <td>1.14</td>\n",
       "      <td>t</td>\n",
       "      <td>109</td>\n",
       "      <td>f</td>\n",
       "      <td>?</td>\n",
       "      <td>SVHC</td>\n",
       "      <td>P</td>\n",
       "    </tr>\n",
       "    <tr>\n",
       "      <th>1</th>\n",
       "      <td>23</td>\n",
       "      <td>F</td>\n",
       "      <td>f</td>\n",
       "      <td>f</td>\n",
       "      <td>f</td>\n",
       "      <td>f</td>\n",
       "      <td>f</td>\n",
       "      <td>f</td>\n",
       "      <td>f</td>\n",
       "      <td>f</td>\n",
       "      <td>...</td>\n",
       "      <td>t</td>\n",
       "      <td>102</td>\n",
       "      <td>f</td>\n",
       "      <td>?</td>\n",
       "      <td>f</td>\n",
       "      <td>?</td>\n",
       "      <td>f</td>\n",
       "      <td>?</td>\n",
       "      <td>other</td>\n",
       "      <td>P</td>\n",
       "    </tr>\n",
       "    <tr>\n",
       "      <th>2</th>\n",
       "      <td>46</td>\n",
       "      <td>M</td>\n",
       "      <td>f</td>\n",
       "      <td>f</td>\n",
       "      <td>f</td>\n",
       "      <td>f</td>\n",
       "      <td>f</td>\n",
       "      <td>f</td>\n",
       "      <td>f</td>\n",
       "      <td>f</td>\n",
       "      <td>...</td>\n",
       "      <td>t</td>\n",
       "      <td>109</td>\n",
       "      <td>t</td>\n",
       "      <td>0.91</td>\n",
       "      <td>t</td>\n",
       "      <td>120</td>\n",
       "      <td>f</td>\n",
       "      <td>?</td>\n",
       "      <td>other</td>\n",
       "      <td>P</td>\n",
       "    </tr>\n",
       "    <tr>\n",
       "      <th>3</th>\n",
       "      <td>70</td>\n",
       "      <td>F</td>\n",
       "      <td>t</td>\n",
       "      <td>f</td>\n",
       "      <td>f</td>\n",
       "      <td>f</td>\n",
       "      <td>f</td>\n",
       "      <td>f</td>\n",
       "      <td>f</td>\n",
       "      <td>f</td>\n",
       "      <td>...</td>\n",
       "      <td>t</td>\n",
       "      <td>175</td>\n",
       "      <td>f</td>\n",
       "      <td>?</td>\n",
       "      <td>f</td>\n",
       "      <td>?</td>\n",
       "      <td>f</td>\n",
       "      <td>?</td>\n",
       "      <td>other</td>\n",
       "      <td>P</td>\n",
       "    </tr>\n",
       "    <tr>\n",
       "      <th>4</th>\n",
       "      <td>70</td>\n",
       "      <td>F</td>\n",
       "      <td>f</td>\n",
       "      <td>f</td>\n",
       "      <td>f</td>\n",
       "      <td>f</td>\n",
       "      <td>f</td>\n",
       "      <td>f</td>\n",
       "      <td>f</td>\n",
       "      <td>f</td>\n",
       "      <td>...</td>\n",
       "      <td>t</td>\n",
       "      <td>61</td>\n",
       "      <td>t</td>\n",
       "      <td>0.87</td>\n",
       "      <td>t</td>\n",
       "      <td>70</td>\n",
       "      <td>f</td>\n",
       "      <td>?</td>\n",
       "      <td>SVI</td>\n",
       "      <td>P</td>\n",
       "    </tr>\n",
       "  </tbody>\n",
       "</table>\n",
       "<p>5 rows × 30 columns</p>\n",
       "</div>"
      ],
      "text/plain": [
       "  age sex on thyroxine query on thyroxine on antithyroid medication sick  \\\n",
       "0  41   F            f                  f                         f    f   \n",
       "1  23   F            f                  f                         f    f   \n",
       "2  46   M            f                  f                         f    f   \n",
       "3  70   F            t                  f                         f    f   \n",
       "4  70   F            f                  f                         f    f   \n",
       "\n",
       "  pregnant thyroid surgery I131 treatment query hypothyroid  ... TT4 measured  \\\n",
       "0        f               f              f                 f  ...            t   \n",
       "1        f               f              f                 f  ...            t   \n",
       "2        f               f              f                 f  ...            t   \n",
       "3        f               f              f                 f  ...            t   \n",
       "4        f               f              f                 f  ...            t   \n",
       "\n",
       "   TT4 T4U measured   T4U FTI measured  FTI TBG measured TBG referral source  \\\n",
       "0  125            t  1.14            t  109            f   ?            SVHC   \n",
       "1  102            f     ?            f    ?            f   ?           other   \n",
       "2  109            t  0.91            t  120            f   ?           other   \n",
       "3  175            f     ?            f    ?            f   ?           other   \n",
       "4   61            t  0.87            t   70            f   ?             SVI   \n",
       "\n",
       "  binaryClass  \n",
       "0           P  \n",
       "1           P  \n",
       "2           P  \n",
       "3           P  \n",
       "4           P  \n",
       "\n",
       "[5 rows x 30 columns]"
      ]
     },
     "execution_count": 2,
     "metadata": {},
     "output_type": "execute_result"
    }
   ],
   "source": [
    "df = pd.read_csv(\"hypothyroid.csv\")\n",
    "df.head()"
   ]
  },
  {
   "cell_type": "code",
   "execution_count": 3,
   "metadata": {},
   "outputs": [
    {
     "data": {
      "text/html": [
       "<div>\n",
       "<style scoped>\n",
       "    .dataframe tbody tr th:only-of-type {\n",
       "        vertical-align: middle;\n",
       "    }\n",
       "\n",
       "    .dataframe tbody tr th {\n",
       "        vertical-align: top;\n",
       "    }\n",
       "\n",
       "    .dataframe thead th {\n",
       "        text-align: right;\n",
       "    }\n",
       "</style>\n",
       "<table border=\"1\" class=\"dataframe\">\n",
       "  <thead>\n",
       "    <tr style=\"text-align: right;\">\n",
       "      <th></th>\n",
       "      <th>count</th>\n",
       "      <th>unique</th>\n",
       "      <th>top</th>\n",
       "      <th>freq</th>\n",
       "    </tr>\n",
       "  </thead>\n",
       "  <tbody>\n",
       "    <tr>\n",
       "      <th>age</th>\n",
       "      <td>3772</td>\n",
       "      <td>94</td>\n",
       "      <td>59</td>\n",
       "      <td>95</td>\n",
       "    </tr>\n",
       "    <tr>\n",
       "      <th>sex</th>\n",
       "      <td>3772</td>\n",
       "      <td>3</td>\n",
       "      <td>F</td>\n",
       "      <td>2480</td>\n",
       "    </tr>\n",
       "    <tr>\n",
       "      <th>on thyroxine</th>\n",
       "      <td>3772</td>\n",
       "      <td>2</td>\n",
       "      <td>f</td>\n",
       "      <td>3308</td>\n",
       "    </tr>\n",
       "    <tr>\n",
       "      <th>query on thyroxine</th>\n",
       "      <td>3772</td>\n",
       "      <td>2</td>\n",
       "      <td>f</td>\n",
       "      <td>3722</td>\n",
       "    </tr>\n",
       "    <tr>\n",
       "      <th>on antithyroid medication</th>\n",
       "      <td>3772</td>\n",
       "      <td>2</td>\n",
       "      <td>f</td>\n",
       "      <td>3729</td>\n",
       "    </tr>\n",
       "    <tr>\n",
       "      <th>sick</th>\n",
       "      <td>3772</td>\n",
       "      <td>2</td>\n",
       "      <td>f</td>\n",
       "      <td>3625</td>\n",
       "    </tr>\n",
       "    <tr>\n",
       "      <th>pregnant</th>\n",
       "      <td>3772</td>\n",
       "      <td>2</td>\n",
       "      <td>f</td>\n",
       "      <td>3719</td>\n",
       "    </tr>\n",
       "    <tr>\n",
       "      <th>thyroid surgery</th>\n",
       "      <td>3772</td>\n",
       "      <td>2</td>\n",
       "      <td>f</td>\n",
       "      <td>3719</td>\n",
       "    </tr>\n",
       "    <tr>\n",
       "      <th>I131 treatment</th>\n",
       "      <td>3772</td>\n",
       "      <td>2</td>\n",
       "      <td>f</td>\n",
       "      <td>3713</td>\n",
       "    </tr>\n",
       "    <tr>\n",
       "      <th>query hypothyroid</th>\n",
       "      <td>3772</td>\n",
       "      <td>2</td>\n",
       "      <td>f</td>\n",
       "      <td>3538</td>\n",
       "    </tr>\n",
       "    <tr>\n",
       "      <th>query hyperthyroid</th>\n",
       "      <td>3772</td>\n",
       "      <td>2</td>\n",
       "      <td>f</td>\n",
       "      <td>3535</td>\n",
       "    </tr>\n",
       "    <tr>\n",
       "      <th>lithium</th>\n",
       "      <td>3772</td>\n",
       "      <td>2</td>\n",
       "      <td>f</td>\n",
       "      <td>3754</td>\n",
       "    </tr>\n",
       "    <tr>\n",
       "      <th>goitre</th>\n",
       "      <td>3772</td>\n",
       "      <td>2</td>\n",
       "      <td>f</td>\n",
       "      <td>3738</td>\n",
       "    </tr>\n",
       "    <tr>\n",
       "      <th>tumor</th>\n",
       "      <td>3772</td>\n",
       "      <td>2</td>\n",
       "      <td>f</td>\n",
       "      <td>3676</td>\n",
       "    </tr>\n",
       "    <tr>\n",
       "      <th>hypopituitary</th>\n",
       "      <td>3772</td>\n",
       "      <td>2</td>\n",
       "      <td>f</td>\n",
       "      <td>3771</td>\n",
       "    </tr>\n",
       "    <tr>\n",
       "      <th>psych</th>\n",
       "      <td>3772</td>\n",
       "      <td>2</td>\n",
       "      <td>f</td>\n",
       "      <td>3588</td>\n",
       "    </tr>\n",
       "    <tr>\n",
       "      <th>TSH measured</th>\n",
       "      <td>3772</td>\n",
       "      <td>2</td>\n",
       "      <td>t</td>\n",
       "      <td>3403</td>\n",
       "    </tr>\n",
       "    <tr>\n",
       "      <th>TSH</th>\n",
       "      <td>3772</td>\n",
       "      <td>288</td>\n",
       "      <td>?</td>\n",
       "      <td>369</td>\n",
       "    </tr>\n",
       "    <tr>\n",
       "      <th>T3 measured</th>\n",
       "      <td>3772</td>\n",
       "      <td>2</td>\n",
       "      <td>t</td>\n",
       "      <td>3003</td>\n",
       "    </tr>\n",
       "    <tr>\n",
       "      <th>T3</th>\n",
       "      <td>3772</td>\n",
       "      <td>70</td>\n",
       "      <td>?</td>\n",
       "      <td>769</td>\n",
       "    </tr>\n",
       "    <tr>\n",
       "      <th>TT4 measured</th>\n",
       "      <td>3772</td>\n",
       "      <td>2</td>\n",
       "      <td>t</td>\n",
       "      <td>3541</td>\n",
       "    </tr>\n",
       "    <tr>\n",
       "      <th>TT4</th>\n",
       "      <td>3772</td>\n",
       "      <td>242</td>\n",
       "      <td>?</td>\n",
       "      <td>231</td>\n",
       "    </tr>\n",
       "    <tr>\n",
       "      <th>T4U measured</th>\n",
       "      <td>3772</td>\n",
       "      <td>2</td>\n",
       "      <td>t</td>\n",
       "      <td>3385</td>\n",
       "    </tr>\n",
       "    <tr>\n",
       "      <th>T4U</th>\n",
       "      <td>3772</td>\n",
       "      <td>147</td>\n",
       "      <td>?</td>\n",
       "      <td>387</td>\n",
       "    </tr>\n",
       "    <tr>\n",
       "      <th>FTI measured</th>\n",
       "      <td>3772</td>\n",
       "      <td>2</td>\n",
       "      <td>t</td>\n",
       "      <td>3387</td>\n",
       "    </tr>\n",
       "    <tr>\n",
       "      <th>FTI</th>\n",
       "      <td>3772</td>\n",
       "      <td>235</td>\n",
       "      <td>?</td>\n",
       "      <td>385</td>\n",
       "    </tr>\n",
       "    <tr>\n",
       "      <th>TBG measured</th>\n",
       "      <td>3772</td>\n",
       "      <td>1</td>\n",
       "      <td>f</td>\n",
       "      <td>3772</td>\n",
       "    </tr>\n",
       "    <tr>\n",
       "      <th>TBG</th>\n",
       "      <td>3772</td>\n",
       "      <td>1</td>\n",
       "      <td>?</td>\n",
       "      <td>3772</td>\n",
       "    </tr>\n",
       "    <tr>\n",
       "      <th>referral source</th>\n",
       "      <td>3772</td>\n",
       "      <td>5</td>\n",
       "      <td>other</td>\n",
       "      <td>2201</td>\n",
       "    </tr>\n",
       "    <tr>\n",
       "      <th>binaryClass</th>\n",
       "      <td>3772</td>\n",
       "      <td>2</td>\n",
       "      <td>P</td>\n",
       "      <td>3481</td>\n",
       "    </tr>\n",
       "  </tbody>\n",
       "</table>\n",
       "</div>"
      ],
      "text/plain": [
       "                          count unique    top  freq\n",
       "age                        3772     94     59    95\n",
       "sex                        3772      3      F  2480\n",
       "on thyroxine               3772      2      f  3308\n",
       "query on thyroxine         3772      2      f  3722\n",
       "on antithyroid medication  3772      2      f  3729\n",
       "sick                       3772      2      f  3625\n",
       "pregnant                   3772      2      f  3719\n",
       "thyroid surgery            3772      2      f  3719\n",
       "I131 treatment             3772      2      f  3713\n",
       "query hypothyroid          3772      2      f  3538\n",
       "query hyperthyroid         3772      2      f  3535\n",
       "lithium                    3772      2      f  3754\n",
       "goitre                     3772      2      f  3738\n",
       "tumor                      3772      2      f  3676\n",
       "hypopituitary              3772      2      f  3771\n",
       "psych                      3772      2      f  3588\n",
       "TSH measured               3772      2      t  3403\n",
       "TSH                        3772    288      ?   369\n",
       "T3 measured                3772      2      t  3003\n",
       "T3                         3772     70      ?   769\n",
       "TT4 measured               3772      2      t  3541\n",
       "TT4                        3772    242      ?   231\n",
       "T4U measured               3772      2      t  3385\n",
       "T4U                        3772    147      ?   387\n",
       "FTI measured               3772      2      t  3387\n",
       "FTI                        3772    235      ?   385\n",
       "TBG measured               3772      1      f  3772\n",
       "TBG                        3772      1      ?  3772\n",
       "referral source            3772      5  other  2201\n",
       "binaryClass                3772      2      P  3481"
      ]
     },
     "execution_count": 3,
     "metadata": {},
     "output_type": "execute_result"
    }
   ],
   "source": [
    "df.describe().T"
   ]
  },
  {
   "cell_type": "code",
   "execution_count": 4,
   "metadata": {},
   "outputs": [
    {
     "name": "stdout",
     "output_type": "stream",
     "text": [
      "<class 'pandas.core.frame.DataFrame'>\n",
      "RangeIndex: 3772 entries, 0 to 3771\n",
      "Data columns (total 30 columns):\n",
      " #   Column                     Non-Null Count  Dtype \n",
      "---  ------                     --------------  ----- \n",
      " 0   age                        3772 non-null   object\n",
      " 1   sex                        3772 non-null   object\n",
      " 2   on thyroxine               3772 non-null   object\n",
      " 3   query on thyroxine         3772 non-null   object\n",
      " 4   on antithyroid medication  3772 non-null   object\n",
      " 5   sick                       3772 non-null   object\n",
      " 6   pregnant                   3772 non-null   object\n",
      " 7   thyroid surgery            3772 non-null   object\n",
      " 8   I131 treatment             3772 non-null   object\n",
      " 9   query hypothyroid          3772 non-null   object\n",
      " 10  query hyperthyroid         3772 non-null   object\n",
      " 11  lithium                    3772 non-null   object\n",
      " 12  goitre                     3772 non-null   object\n",
      " 13  tumor                      3772 non-null   object\n",
      " 14  hypopituitary              3772 non-null   object\n",
      " 15  psych                      3772 non-null   object\n",
      " 16  TSH measured               3772 non-null   object\n",
      " 17  TSH                        3772 non-null   object\n",
      " 18  T3 measured                3772 non-null   object\n",
      " 19  T3                         3772 non-null   object\n",
      " 20  TT4 measured               3772 non-null   object\n",
      " 21  TT4                        3772 non-null   object\n",
      " 22  T4U measured               3772 non-null   object\n",
      " 23  T4U                        3772 non-null   object\n",
      " 24  FTI measured               3772 non-null   object\n",
      " 25  FTI                        3772 non-null   object\n",
      " 26  TBG measured               3772 non-null   object\n",
      " 27  TBG                        3772 non-null   object\n",
      " 28  referral source            3772 non-null   object\n",
      " 29  binaryClass                3772 non-null   object\n",
      "dtypes: object(30)\n",
      "memory usage: 884.2+ KB\n"
     ]
    }
   ],
   "source": [
    "df.info()"
   ]
  },
  {
   "cell_type": "code",
   "execution_count": 5,
   "metadata": {},
   "outputs": [],
   "source": [
    "df[\"binaryClass\"]=df[\"binaryClass\"].map({\"P\":0,\"N\":1})\n",
    "df=df.replace({\"F\":1,\"M\":0})"
   ]
  },
  {
   "cell_type": "code",
   "execution_count": 6,
   "metadata": {},
   "outputs": [
    {
     "data": {
      "text/plain": [
       "f    3719\n",
       "t      53\n",
       "Name: pregnant, dtype: int64"
      ]
     },
     "execution_count": 6,
     "metadata": {},
     "output_type": "execute_result"
    }
   ],
   "source": [
    "df[\"pregnant\"].value_counts()"
   ]
  },
  {
   "cell_type": "code",
   "execution_count": 7,
   "metadata": {},
   "outputs": [],
   "source": [
    "df=df.replace({\"t\":1,\"f\":0})"
   ]
  },
  {
   "cell_type": "code",
   "execution_count": 8,
   "metadata": {},
   "outputs": [],
   "source": [
    "df=df.replace({\"?\":np.NAN})"
   ]
  },
  {
   "cell_type": "code",
   "execution_count": 9,
   "metadata": {},
   "outputs": [
    {
     "data": {
      "text/plain": [
       "age                             1\n",
       "sex                           150\n",
       "on thyroxine                    0\n",
       "query on thyroxine              0\n",
       "on antithyroid medication       0\n",
       "sick                            0\n",
       "pregnant                        0\n",
       "thyroid surgery                 0\n",
       "I131 treatment                  0\n",
       "query hypothyroid               0\n",
       "query hyperthyroid              0\n",
       "lithium                         0\n",
       "goitre                          0\n",
       "tumor                           0\n",
       "hypopituitary                   0\n",
       "psych                           0\n",
       "TSH measured                    0\n",
       "TSH                           369\n",
       "T3 measured                     0\n",
       "T3                            769\n",
       "TT4 measured                    0\n",
       "TT4                           231\n",
       "T4U measured                    0\n",
       "T4U                           387\n",
       "FTI measured                    0\n",
       "FTI                           385\n",
       "TBG measured                    0\n",
       "TBG                          3772\n",
       "referral source                 0\n",
       "binaryClass                     0\n",
       "dtype: int64"
      ]
     },
     "execution_count": 9,
     "metadata": {},
     "output_type": "execute_result"
    }
   ],
   "source": [
    "df.isnull().sum()"
   ]
  },
  {
   "cell_type": "code",
   "execution_count": 10,
   "metadata": {},
   "outputs": [],
   "source": [
    "df.drop(['T3 measured','TSH measured','TT4 measured','T4U measured','FTI measured','TBG measured','TBG','referral source','on thyroxine','query on thyroxine','on antithyroid medication','query hypothyroid', 'query hyperthyroid','hypopituitary', 'psych'],axis=1,inplace=True)"
   ]
  },
  {
   "cell_type": "code",
   "execution_count": 11,
   "metadata": {},
   "outputs": [
    {
     "name": "stdout",
     "output_type": "stream",
     "text": [
      "<class 'pandas.core.frame.DataFrame'>\n",
      "RangeIndex: 3772 entries, 0 to 3771\n",
      "Data columns (total 15 columns):\n",
      " #   Column           Non-Null Count  Dtype  \n",
      "---  ------           --------------  -----  \n",
      " 0   age              3771 non-null   object \n",
      " 1   sex              3622 non-null   float64\n",
      " 2   sick             3772 non-null   int64  \n",
      " 3   pregnant         3772 non-null   int64  \n",
      " 4   thyroid surgery  3772 non-null   int64  \n",
      " 5   I131 treatment   3772 non-null   int64  \n",
      " 6   lithium          3772 non-null   int64  \n",
      " 7   goitre           3772 non-null   int64  \n",
      " 8   tumor            3772 non-null   int64  \n",
      " 9   TSH              3403 non-null   object \n",
      " 10  T3               3003 non-null   object \n",
      " 11  TT4              3541 non-null   object \n",
      " 12  T4U              3385 non-null   object \n",
      " 13  FTI              3387 non-null   object \n",
      " 14  binaryClass      3772 non-null   int64  \n",
      "dtypes: float64(1), int64(8), object(6)\n",
      "memory usage: 442.2+ KB\n"
     ]
    }
   ],
   "source": [
    "df.info()"
   ]
  },
  {
   "cell_type": "code",
   "execution_count": 12,
   "metadata": {},
   "outputs": [],
   "source": [
    "cols = ['age','FTI','TSH','T3','TT4','T4U']\n",
    "for i in cols:\n",
    "    df[i] = pd.to_numeric(df[i])"
   ]
  },
  {
   "cell_type": "code",
   "execution_count": 13,
   "metadata": {},
   "outputs": [
    {
     "name": "stdout",
     "output_type": "stream",
     "text": [
      "<class 'pandas.core.frame.DataFrame'>\n",
      "RangeIndex: 3772 entries, 0 to 3771\n",
      "Data columns (total 15 columns):\n",
      " #   Column           Non-Null Count  Dtype  \n",
      "---  ------           --------------  -----  \n",
      " 0   age              3771 non-null   float64\n",
      " 1   sex              3622 non-null   float64\n",
      " 2   sick             3772 non-null   int64  \n",
      " 3   pregnant         3772 non-null   int64  \n",
      " 4   thyroid surgery  3772 non-null   int64  \n",
      " 5   I131 treatment   3772 non-null   int64  \n",
      " 6   lithium          3772 non-null   int64  \n",
      " 7   goitre           3772 non-null   int64  \n",
      " 8   tumor            3772 non-null   int64  \n",
      " 9   TSH              3403 non-null   float64\n",
      " 10  T3               3003 non-null   float64\n",
      " 11  TT4              3541 non-null   float64\n",
      " 12  T4U              3385 non-null   float64\n",
      " 13  FTI              3387 non-null   float64\n",
      " 14  binaryClass      3772 non-null   int64  \n",
      "dtypes: float64(7), int64(8)\n",
      "memory usage: 442.2 KB\n"
     ]
    }
   ],
   "source": [
    "df.info()"
   ]
  },
  {
   "cell_type": "code",
   "execution_count": 14,
   "metadata": {},
   "outputs": [
    {
     "data": {
      "text/plain": [
       "age                  1\n",
       "sex                150\n",
       "sick                 0\n",
       "pregnant             0\n",
       "thyroid surgery      0\n",
       "I131 treatment       0\n",
       "lithium              0\n",
       "goitre               0\n",
       "tumor                0\n",
       "TSH                369\n",
       "T3                 769\n",
       "TT4                231\n",
       "T4U                387\n",
       "FTI                385\n",
       "binaryClass          0\n",
       "dtype: int64"
      ]
     },
     "execution_count": 14,
     "metadata": {},
     "output_type": "execute_result"
    }
   ],
   "source": [
    "df.isnull().sum()"
   ]
  },
  {
   "cell_type": "code",
   "execution_count": 15,
   "metadata": {},
   "outputs": [],
   "source": [
    "miss_cols = ['sex', 'FTI','TSH','T3','TT4','T4U']\n",
    "for i in miss_cols:\n",
    "    df[i] = df[i].fillna(df[i].mean())"
   ]
  },
  {
   "cell_type": "code",
   "execution_count": 16,
   "metadata": {},
   "outputs": [],
   "source": [
    "df.dropna(inplace=True)"
   ]
  },
  {
   "cell_type": "code",
   "execution_count": 17,
   "metadata": {
    "scrolled": true
   },
   "outputs": [
    {
     "data": {
      "text/plain": [
       "age                0\n",
       "sex                0\n",
       "sick               0\n",
       "pregnant           0\n",
       "thyroid surgery    0\n",
       "I131 treatment     0\n",
       "lithium            0\n",
       "goitre             0\n",
       "tumor              0\n",
       "TSH                0\n",
       "T3                 0\n",
       "TT4                0\n",
       "T4U                0\n",
       "FTI                0\n",
       "binaryClass        0\n",
       "dtype: int64"
      ]
     },
     "execution_count": 17,
     "metadata": {},
     "output_type": "execute_result"
    }
   ],
   "source": [
    "df.isnull().sum()"
   ]
  },
  {
   "cell_type": "code",
   "execution_count": null,
   "metadata": {},
   "outputs": [],
   "source": []
  },
  {
   "cell_type": "code",
   "execution_count": 18,
   "metadata": {},
   "outputs": [],
   "source": [
    "miss_cols.extend(['age', 'binaryClass'])"
   ]
  },
  {
   "cell_type": "code",
   "execution_count": 19,
   "metadata": {},
   "outputs": [],
   "source": [
    "df = df[miss_cols]"
   ]
  },
  {
   "cell_type": "code",
   "execution_count": 20,
   "metadata": {},
   "outputs": [
    {
     "data": {
      "text/html": [
       "<div>\n",
       "<style scoped>\n",
       "    .dataframe tbody tr th:only-of-type {\n",
       "        vertical-align: middle;\n",
       "    }\n",
       "\n",
       "    .dataframe tbody tr th {\n",
       "        vertical-align: top;\n",
       "    }\n",
       "\n",
       "    .dataframe thead th {\n",
       "        text-align: right;\n",
       "    }\n",
       "</style>\n",
       "<table border=\"1\" class=\"dataframe\">\n",
       "  <thead>\n",
       "    <tr style=\"text-align: right;\">\n",
       "      <th></th>\n",
       "      <th>sex</th>\n",
       "      <th>FTI</th>\n",
       "      <th>TSH</th>\n",
       "      <th>T3</th>\n",
       "      <th>TT4</th>\n",
       "      <th>T4U</th>\n",
       "      <th>age</th>\n",
       "      <th>binaryClass</th>\n",
       "    </tr>\n",
       "  </thead>\n",
       "  <tbody>\n",
       "    <tr>\n",
       "      <th>sex</th>\n",
       "      <td>1.000000</td>\n",
       "      <td>0.038332</td>\n",
       "      <td>0.031846</td>\n",
       "      <td>0.062895</td>\n",
       "      <td>0.166940</td>\n",
       "      <td>0.225786</td>\n",
       "      <td>0.003606</td>\n",
       "      <td>0.050865</td>\n",
       "    </tr>\n",
       "    <tr>\n",
       "      <th>FTI</th>\n",
       "      <td>0.038332</td>\n",
       "      <td>1.000000</td>\n",
       "      <td>-0.293016</td>\n",
       "      <td>0.309119</td>\n",
       "      <td>0.779143</td>\n",
       "      <td>-0.173771</td>\n",
       "      <td>0.050026</td>\n",
       "      <td>-0.313761</td>\n",
       "    </tr>\n",
       "    <tr>\n",
       "      <th>TSH</th>\n",
       "      <td>0.031846</td>\n",
       "      <td>-0.293016</td>\n",
       "      <td>1.000000</td>\n",
       "      <td>-0.147377</td>\n",
       "      <td>-0.261288</td>\n",
       "      <td>0.070989</td>\n",
       "      <td>-0.056167</td>\n",
       "      <td>0.423950</td>\n",
       "    </tr>\n",
       "    <tr>\n",
       "      <th>T3</th>\n",
       "      <td>0.062895</td>\n",
       "      <td>0.309119</td>\n",
       "      <td>-0.147377</td>\n",
       "      <td>1.000000</td>\n",
       "      <td>0.509168</td>\n",
       "      <td>0.407141</td>\n",
       "      <td>-0.214938</td>\n",
       "      <td>-0.177750</td>\n",
       "    </tr>\n",
       "    <tr>\n",
       "      <th>TT4</th>\n",
       "      <td>0.166940</td>\n",
       "      <td>0.779143</td>\n",
       "      <td>-0.261288</td>\n",
       "      <td>0.509168</td>\n",
       "      <td>1.000000</td>\n",
       "      <td>0.426626</td>\n",
       "      <td>-0.037610</td>\n",
       "      <td>-0.291658</td>\n",
       "    </tr>\n",
       "    <tr>\n",
       "      <th>T4U</th>\n",
       "      <td>0.225786</td>\n",
       "      <td>-0.173771</td>\n",
       "      <td>0.070989</td>\n",
       "      <td>0.407141</td>\n",
       "      <td>0.426626</td>\n",
       "      <td>1.000000</td>\n",
       "      <td>-0.157542</td>\n",
       "      <td>0.028269</td>\n",
       "    </tr>\n",
       "    <tr>\n",
       "      <th>age</th>\n",
       "      <td>0.003606</td>\n",
       "      <td>0.050026</td>\n",
       "      <td>-0.056167</td>\n",
       "      <td>-0.214938</td>\n",
       "      <td>-0.037610</td>\n",
       "      <td>-0.157542</td>\n",
       "      <td>1.000000</td>\n",
       "      <td>-0.003174</td>\n",
       "    </tr>\n",
       "    <tr>\n",
       "      <th>binaryClass</th>\n",
       "      <td>0.050865</td>\n",
       "      <td>-0.313761</td>\n",
       "      <td>0.423950</td>\n",
       "      <td>-0.177750</td>\n",
       "      <td>-0.291658</td>\n",
       "      <td>0.028269</td>\n",
       "      <td>-0.003174</td>\n",
       "      <td>1.000000</td>\n",
       "    </tr>\n",
       "  </tbody>\n",
       "</table>\n",
       "</div>"
      ],
      "text/plain": [
       "                  sex       FTI       TSH        T3       TT4       T4U  \\\n",
       "sex          1.000000  0.038332  0.031846  0.062895  0.166940  0.225786   \n",
       "FTI          0.038332  1.000000 -0.293016  0.309119  0.779143 -0.173771   \n",
       "TSH          0.031846 -0.293016  1.000000 -0.147377 -0.261288  0.070989   \n",
       "T3           0.062895  0.309119 -0.147377  1.000000  0.509168  0.407141   \n",
       "TT4          0.166940  0.779143 -0.261288  0.509168  1.000000  0.426626   \n",
       "T4U          0.225786 -0.173771  0.070989  0.407141  0.426626  1.000000   \n",
       "age          0.003606  0.050026 -0.056167 -0.214938 -0.037610 -0.157542   \n",
       "binaryClass  0.050865 -0.313761  0.423950 -0.177750 -0.291658  0.028269   \n",
       "\n",
       "                  age  binaryClass  \n",
       "sex          0.003606     0.050865  \n",
       "FTI          0.050026    -0.313761  \n",
       "TSH         -0.056167     0.423950  \n",
       "T3          -0.214938    -0.177750  \n",
       "TT4         -0.037610    -0.291658  \n",
       "T4U         -0.157542     0.028269  \n",
       "age          1.000000    -0.003174  \n",
       "binaryClass -0.003174     1.000000  "
      ]
     },
     "execution_count": 20,
     "metadata": {},
     "output_type": "execute_result"
    }
   ],
   "source": [
    "df_corr = df.corr()\n",
    "df_corr"
   ]
  },
  {
   "cell_type": "code",
   "execution_count": 21,
   "metadata": {
    "scrolled": true
   },
   "outputs": [
    {
     "data": {
      "text/plain": [
       "<AxesSubplot:>"
      ]
     },
     "execution_count": 21,
     "metadata": {},
     "output_type": "execute_result"
    },
    {
     "data": {
      "image/png": "[encoded data removed]",
      "text/plain": [
       "<Figure size 1440x1440 with 2 Axes>"
      ]
     },
     "metadata": {},
     "output_type": "display_data"
    }
   ],
   "source": [
    "sns.heatmap(df_corr, cmap='viridis', linecolor='k', linewidths=1, annot=True)"
   ]
  },
  {
   "cell_type": "code",
   "execution_count": 22,
   "metadata": {},
   "outputs": [
    {
     "data": {
      "text/plain": [
       "sex              0.684621\n",
       "FTI            110.460227\n",
       "TSH              5.087956\n",
       "T3               2.013636\n",
       "TT4            108.316247\n",
       "T4U              0.995046\n",
       "age             51.735879\n",
       "binaryClass      0.077168\n",
       "dtype: float64"
      ]
     },
     "execution_count": 22,
     "metadata": {},
     "output_type": "execute_result"
    }
   ],
   "source": [
    "df.mean()"
   ]
  },
  {
   "cell_type": "code",
   "execution_count": 23,
   "metadata": {},
   "outputs": [
    {
     "data": {
      "text/plain": [
       "sex              0.677924\n",
       "FTI            113.304619\n",
       "TSH              2.232634\n",
       "T3               2.051581\n",
       "TT4            111.225624\n",
       "T4U              0.993533\n",
       "age             51.754310\n",
       "binaryClass      0.000000\n",
       "dtype: float64"
      ]
     },
     "execution_count": 23,
     "metadata": {},
     "output_type": "execute_result"
    }
   ],
   "source": [
    "df[df.binaryClass==0].mean()"
   ]
  },
  {
   "cell_type": "code",
   "execution_count": 30,
   "metadata": {},
   "outputs": [
    {
     "data": {
      "text/plain": [
       "sex             0.458018\n",
       "FTI            29.429309\n",
       "TSH             4.592197\n",
       "T3              0.726739\n",
       "TT4            32.840560\n",
       "T4U             0.185771\n",
       "age            20.166944\n",
       "binaryClass     0.000000\n",
       "dtype: float64"
      ]
     },
     "execution_count": 30,
     "metadata": {},
     "output_type": "execute_result"
    }
   ],
   "source": [
    "df[df.binaryClass==0].std()"
   ]
  },
  {
   "cell_type": "code",
   "execution_count": 34,
   "metadata": {},
   "outputs": [
    {
     "data": {
      "text/plain": [
       "79"
      ]
     },
     "execution_count": 34,
     "metadata": {},
     "output_type": "execute_result"
    }
   ],
   "source": [
    "111 - 32"
   ]
  },
  {
   "cell_type": "code",
   "execution_count": 24,
   "metadata": {},
   "outputs": [
    {
     "data": {
      "text/plain": [
       "sex             0.764714\n",
       "FTI            76.444815\n",
       "TSH            39.234072\n",
       "T3              1.559866\n",
       "TT4            73.523700\n",
       "T4U             1.013144\n",
       "age            51.515464\n",
       "binaryClass     1.000000\n",
       "dtype: float64"
      ]
     },
     "execution_count": 24,
     "metadata": {},
     "output_type": "execute_result"
    }
   ],
   "source": [
    "df[df.binaryClass==1].mean()"
   ]
  },
  {
   "cell_type": "code",
   "execution_count": 29,
   "metadata": {
    "scrolled": false
   },
   "outputs": [
    {
     "data": {
      "text/plain": [
       "sex             0.415161\n",
       "FTI            33.641135\n",
       "TSH            74.384355\n",
       "T3              0.725607\n",
       "TT4            34.916682\n",
       "T4U             0.176987\n",
       "age            19.109005\n",
       "binaryClass     0.000000\n",
       "dtype: float64"
      ]
     },
     "execution_count": 29,
     "metadata": {},
     "output_type": "execute_result"
    }
   ],
   "source": [
    "df[df.binaryClass==1].std()"
   ]
  },
  {
   "cell_type": "code",
   "execution_count": 27,
   "metadata": {},
   "outputs": [
    {
     "data": {
      "text/plain": [
       "0    3480\n",
       "1     291\n",
       "Name: binaryClass, dtype: int64"
      ]
     },
     "execution_count": 27,
     "metadata": {},
     "output_type": "execute_result"
    }
   ],
   "source": [
    "df.binaryClass.value_counts()"
   ]
  },
  {
   "cell_type": "code",
   "execution_count": 31,
   "metadata": {},
   "outputs": [
    {
     "name": "stdout",
     "output_type": "stream",
     "text": [
      "84\n"
     ]
    }
   ],
   "source": [
    "print(113 - 29)"
   ]
  },
  {
   "cell_type": "code",
   "execution_count": null,
   "metadata": {},
   "outputs": [],
   "source": []
  },
  {
   "cell_type": "code",
   "execution_count": 22,
   "metadata": {},
   "outputs": [],
   "source": [
    "npdata = df.to_numpy()\n",
    "X, y = npdata[:, 0:7], npdata[:,7:8]"
   ]
  },
  {
   "cell_type": "code",
   "execution_count": 23,
   "metadata": {},
   "outputs": [],
   "source": [
    "X_train,X_test,y_train,y_test = train_test_split(X,y,test_size=0.2,random_state=11)"
   ]
  },
  {
   "cell_type": "code",
   "execution_count": 24,
   "metadata": {},
   "outputs": [],
   "source": [
    "scaler = MinMaxScaler()\n",
    "X_train = scaler.fit_transform(X_train)\n",
    "X_test = scaler.transform(X_test)"
   ]
  },
  {
   "cell_type": "code",
   "execution_count": 25,
   "metadata": {},
   "outputs": [
    {
     "data": {
      "text/html": [
       "<div>\n",
       "<style scoped>\n",
       "    .dataframe tbody tr th:only-of-type {\n",
       "        vertical-align: middle;\n",
       "    }\n",
       "\n",
       "    .dataframe tbody tr th {\n",
       "        vertical-align: top;\n",
       "    }\n",
       "\n",
       "    .dataframe thead th {\n",
       "        text-align: right;\n",
       "    }\n",
       "</style>\n",
       "<table border=\"1\" class=\"dataframe\">\n",
       "  <thead>\n",
       "    <tr style=\"text-align: right;\">\n",
       "      <th></th>\n",
       "      <th>sex</th>\n",
       "      <th>FTI</th>\n",
       "      <th>TSH</th>\n",
       "      <th>T3</th>\n",
       "      <th>TT4</th>\n",
       "      <th>T4U</th>\n",
       "      <th>age</th>\n",
       "      <th>binaryClass</th>\n",
       "    </tr>\n",
       "  </thead>\n",
       "  <tbody>\n",
       "    <tr>\n",
       "      <th>0</th>\n",
       "      <td>1.0</td>\n",
       "      <td>109.000000</td>\n",
       "      <td>1.30</td>\n",
       "      <td>2.5000</td>\n",
       "      <td>125.0</td>\n",
       "      <td>1.140</td>\n",
       "      <td>41.0</td>\n",
       "      <td>0</td>\n",
       "    </tr>\n",
       "    <tr>\n",
       "      <th>1</th>\n",
       "      <td>1.0</td>\n",
       "      <td>110.469649</td>\n",
       "      <td>4.10</td>\n",
       "      <td>2.0000</td>\n",
       "      <td>102.0</td>\n",
       "      <td>0.995</td>\n",
       "      <td>23.0</td>\n",
       "      <td>0</td>\n",
       "    </tr>\n",
       "    <tr>\n",
       "      <th>2</th>\n",
       "      <td>0.0</td>\n",
       "      <td>120.000000</td>\n",
       "      <td>0.98</td>\n",
       "      <td>2.0135</td>\n",
       "      <td>109.0</td>\n",
       "      <td>0.910</td>\n",
       "      <td>46.0</td>\n",
       "      <td>0</td>\n",
       "    </tr>\n",
       "    <tr>\n",
       "      <th>3</th>\n",
       "      <td>1.0</td>\n",
       "      <td>110.469649</td>\n",
       "      <td>0.16</td>\n",
       "      <td>1.9000</td>\n",
       "      <td>175.0</td>\n",
       "      <td>0.995</td>\n",
       "      <td>70.0</td>\n",
       "      <td>0</td>\n",
       "    </tr>\n",
       "    <tr>\n",
       "      <th>4</th>\n",
       "      <td>1.0</td>\n",
       "      <td>70.000000</td>\n",
       "      <td>0.72</td>\n",
       "      <td>1.2000</td>\n",
       "      <td>61.0</td>\n",
       "      <td>0.870</td>\n",
       "      <td>70.0</td>\n",
       "      <td>0</td>\n",
       "    </tr>\n",
       "  </tbody>\n",
       "</table>\n",
       "</div>"
      ],
      "text/plain": [
       "   sex         FTI   TSH      T3    TT4    T4U   age  binaryClass\n",
       "0  1.0  109.000000  1.30  2.5000  125.0  1.140  41.0            0\n",
       "1  1.0  110.469649  4.10  2.0000  102.0  0.995  23.0            0\n",
       "2  0.0  120.000000  0.98  2.0135  109.0  0.910  46.0            0\n",
       "3  1.0  110.469649  0.16  1.9000  175.0  0.995  70.0            0\n",
       "4  1.0   70.000000  0.72  1.2000   61.0  0.870  70.0            0"
      ]
     },
     "execution_count": 25,
     "metadata": {},
     "output_type": "execute_result"
    }
   ],
   "source": [
    "df.head()"
   ]
  },
  {
   "cell_type": "code",
   "execution_count": 26,
   "metadata": {},
   "outputs": [
    {
     "name": "stderr",
     "output_type": "stream",
     "text": [
      "/home/yongjie/anaconda3/lib/python3.7/site-packages/sklearn/utils/validation.py:72: DataConversionWarning: A column-vector y was passed when a 1d array was expected. Please change the shape of y to (n_samples, ), for example using ravel().\n",
      "  return f(**kwargs)\n",
      "/home/yongjie/anaconda3/lib/python3.7/site-packages/sklearn/utils/validation.py:72: DataConversionWarning: A column-vector y was passed when a 1d array was expected. Please change the shape of y to (n_samples, ), for example using ravel().\n",
      "  return f(**kwargs)\n",
      "/home/yongjie/anaconda3/lib/python3.7/site-packages/ipykernel_launcher.py:7: DataConversionWarning: A column-vector y was passed when a 1d array was expected. Please change the shape of y to (n_samples,), for example using ravel().\n",
      "  import sys\n"
     ]
    },
    {
     "name": "stdout",
     "output_type": "stream",
     "text": [
      "Accuracy Score for Logistic Regression is :  93.50993377483444 %\n",
      "Accuracy Score for Support Vector Machine is :  93.90728476821192 %\n",
      "Accuracy Score for Random Forest is :  98.41059602649007 %\n"
     ]
    }
   ],
   "source": [
    "models = {\n",
    "    LogisticRegression(max_iter=500):'Logistic Regression',\n",
    "    SVC():\"Support Vector Machine\",\n",
    "    RandomForestClassifier():'Random Forest'\n",
    "}\n",
    "for m in models.keys():\n",
    "    m.fit(X_train, y_train)\n",
    "for model,name in models.items():\n",
    "     print(f\"Accuracy Score for {name} is : \",model.score(X_test,y_test)*100,\"%\")"
   ]
  },
  {
   "cell_type": "code",
   "execution_count": 27,
   "metadata": {},
   "outputs": [
    {
     "name": "stdout",
     "output_type": "stream",
     "text": [
      "[[  1.         109.           1.3        ... 125.           1.14\n",
      "   41.        ]\n",
      " [  1.         110.46964866   4.1        ... 102.           0.9949997\n",
      "   23.        ]\n",
      " [  0.         120.           0.98       ... 109.           0.91\n",
      "   46.        ]\n",
      " ...\n",
      " [  1.         105.           5.1        ... 112.           1.07\n",
      "   74.        ]\n",
      " [  0.          87.           0.7        ...  82.           0.94\n",
      "   72.        ]\n",
      " [  1.          92.           1.         ...  99.           1.07\n",
      "   64.        ]] [[0.]\n",
      " [0.]\n",
      " [0.]\n",
      " ...\n",
      " [0.]\n",
      " [0.]\n",
      " [0.]]\n"
     ]
    }
   ],
   "source": [
    "print(X, y)"
   ]
  },
  {
   "cell_type": "code",
   "execution_count": 28,
   "metadata": {},
   "outputs": [
    {
     "name": "stdout",
     "output_type": "stream",
     "text": [
      "Classification Report for Logistic Regression\n",
      "----------------------------------------------------------\n",
      "              precision    recall  f1-score   support\n",
      "\n",
      "         0.0       0.93      1.00      0.97       699\n",
      "         1.0       1.00      0.12      0.22        56\n",
      "\n",
      "    accuracy                           0.94       755\n",
      "   macro avg       0.97      0.56      0.59       755\n",
      "weighted avg       0.94      0.94      0.91       755\n",
      "\n",
      "----------------------------------------------------------\n",
      "Classification Report for Support Vector Machine\n",
      "----------------------------------------------------------\n",
      "              precision    recall  f1-score   support\n",
      "\n",
      "         0.0       0.94      1.00      0.97       699\n",
      "         1.0       1.00      0.18      0.30        56\n",
      "\n",
      "    accuracy                           0.94       755\n",
      "   macro avg       0.97      0.59      0.64       755\n",
      "weighted avg       0.94      0.94      0.92       755\n",
      "\n",
      "----------------------------------------------------------\n",
      "Classification Report for Random Forest\n",
      "----------------------------------------------------------\n",
      "              precision    recall  f1-score   support\n",
      "\n",
      "         0.0       0.99      0.99      0.99       699\n",
      "         1.0       0.87      0.93      0.90        56\n",
      "\n",
      "    accuracy                           0.98       755\n",
      "   macro avg       0.93      0.96      0.94       755\n",
      "weighted avg       0.98      0.98      0.98       755\n",
      "\n",
      "----------------------------------------------------------\n"
     ]
    }
   ],
   "source": [
    "for model,name in models.items():\n",
    "    y_pred = model.predict(X_test)\n",
    "    print(f\"Classification Report for {name}\")  \n",
    "    print(\"----------------------------------------------------------\")\n",
    "    print(classification_report(y_test,y_pred))\n",
    "    print(\"----------------------------------------------------------\")"
   ]
  },
  {
   "cell_type": "code",
   "execution_count": 29,
   "metadata": {
    "scrolled": true
   },
   "outputs": [
    {
     "name": "stderr",
     "output_type": "stream",
     "text": [
      "/home/yongjie/anaconda3/lib/python3.7/site-packages/ipykernel_launcher.py:2: DataConversionWarning: A column-vector y was passed when a 1d array was expected. Please change the shape of y to (n_samples,), for example using ravel().\n",
      "  \n"
     ]
    },
    {
     "name": "stdout",
     "output_type": "stream",
     "text": [
      "CPU times: user 290 ms, sys: 4.95 ms, total: 295 ms\n",
      "Wall time: 293 ms\n"
     ]
    },
    {
     "data": {
      "text/plain": [
       "0.9827814569536424"
      ]
     },
     "execution_count": 29,
     "metadata": {},
     "output_type": "execute_result"
    }
   ],
   "source": [
    "%%time\n",
    "rf = RandomForestClassifier()\n",
    "rf.fit(X_train, y_train)\n",
    "rf.score(X_test,y_test)"
   ]
  },
  {
   "cell_type": "code",
   "execution_count": null,
   "metadata": {},
   "outputs": [],
   "source": [
    "print(df.columns.to_list()[0:-1])"
   ]
  },
  {
   "cell_type": "code",
   "execution_count": 31,
   "metadata": {},
   "outputs": [
    {
     "data": {
      "image/png": "[encoded data removed]",
      "text/plain": [
       "<Figure size 648x504 with 1 Axes>"
      ]
     },
     "metadata": {
      "needs_background": "light"
     },
     "output_type": "display_data"
    }
   ],
   "source": [
    "plt.figure(figsize=(9,7))\n",
    "feature_imp1 = rf.feature_importances_\n",
    "sns.barplot(x=feature_imp1, y=df.columns.to_list()[0:-1])\n",
    "# Add labels to your graph\n",
    "plt.xlabel('Feature Importance Score')\n",
    "plt.ylabel('Features')\n",
    "plt.title(\"Visualizing Important Features For Random Forest \",{'fontsize':25})\n",
    "plt.show();"
   ]
  },
  {
   "cell_type": "code",
   "execution_count": null,
   "metadata": {},
   "outputs": [],
   "source": [
    "df.columns"
   ]
  },
  {
   "cell_type": "markdown",
   "metadata": {},
   "source": [
    "Classification Report for Logistic Regression\n",
    "----------------------------------------------------------\n",
    "              precision    recall  f1-score   support\n",
    "\n",
    "         0.0       0.93      1.00      0.96       697\n",
    "         1.0       0.83      0.09      0.16        58\n",
    "\n",
    "    accuracy                           0.93       755\n",
    "   macro avg       0.88      0.54      0.56       755\n",
    "weighted avg       0.92      0.93      0.90       755\n",
    "\n",
    "----------------------------------------------------------\n",
    "Classification Report for Support Vector Machine\n",
    "----------------------------------------------------------\n",
    "              precision    recall  f1-score   support\n",
    "\n",
    "         0.0       0.95      1.00      0.97       697\n",
    "         1.0       0.91      0.34      0.50        58\n",
    "\n",
    "    accuracy                           0.95       755\n",
    "   macro avg       0.93      0.67      0.74       755\n",
    "weighted avg       0.95      0.95      0.94       755\n",
    "\n",
    "----------------------------------------------------------\n",
    "Classification Report for Random Forest\n",
    "----------------------------------------------------------\n",
    "              precision    recall  f1-score   support\n",
    "\n",
    "         0.0       0.99      0.98      0.99       697\n",
    "         1.0       0.83      0.93      0.88        58\n",
    "\n",
    "    accuracy                           0.98       755\n",
    "   macro avg       0.91      0.96      0.93       755\n",
    "weighted avg       0.98      0.98      0.98       755\n",
    "\n",
    "----------------------------------------------------------"
   ]
  },
  {
   "cell_type": "code",
   "execution_count": null,
   "metadata": {},
   "outputs": [],
   "source": []
  }
 ],
 "metadata": {
  "kernelspec": {
   "display_name": "Python 3 (ipykernel)",
   "language": "python",
   "name": "python3"
  },
  "language_info": {
   "codemirror_mode": {
    "name": "ipython",
    "version": 3
   },
   "file_extension": ".py",
   "mimetype": "text/x-python",
   "name": "python",
   "nbconvert_exporter": "python",
   "pygments_lexer": "ipython3",
   "version": "3.7.13"
  }
 },
 "nbformat": 4,
 "nbformat_minor": 2
}
